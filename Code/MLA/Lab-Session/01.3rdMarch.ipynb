{
 "cells": [
  {
   "cell_type": "markdown",
   "metadata": {},
   "source": [
    "# MLA Lab Session\n",
    "\n",
    "Date: 3 March 2022\n"
   ]
  },
  {
   "cell_type": "markdown",
   "metadata": {},
   "source": [
    "## 1.Variable Declaration\n"
   ]
  },
  {
   "cell_type": "code",
   "execution_count": 3,
   "metadata": {},
   "outputs": [
    {
     "name": "stdout",
     "output_type": "stream",
     "text": [
      "Value of variable is 2\n"
     ]
    }
   ],
   "source": [
    "a = 2\n",
    "print(\"Value of variable is\", a)"
   ]
  },
  {
   "cell_type": "markdown",
   "metadata": {},
   "source": [
    "## 2.Greater of 2 Numbers\n"
   ]
  },
  {
   "cell_type": "code",
   "execution_count": 4,
   "metadata": {},
   "outputs": [
    {
     "name": "stdout",
     "output_type": "stream",
     "text": [
      "b is greater than a that is: 34 > 2\n"
     ]
    }
   ],
   "source": [
    "a = 2\n",
    "b = 34\n",
    "if a > b:\n",
    "    print(\"a is greater than b that is:\", a, \">\", b)\n",
    "else:\n",
    "    print(\"b is greater than a that is:\", b, \">\", a)\n"
   ]
  },
  {
   "cell_type": "markdown",
   "metadata": {},
   "source": [
    "## 3.Greater of three numbers\n"
   ]
  },
  {
   "cell_type": "code",
   "execution_count": 1,
   "metadata": {},
   "outputs": [
    {
     "name": "stdout",
     "output_type": "stream",
     "text": [
      "Num1 > Num2 and Num3 that is: 32 > 19 > 2\n"
     ]
    }
   ],
   "source": [
    "num1 = 32\n",
    "num2 = 19\n",
    "num3 = 2\n",
    "if num1 > num2 and num1 > num3:\n",
    "    print(\"Num1 > Num2 and Num3 that is:\", num1, \">\", num2, \">\", num3)\n",
    "elif num2 > num1 and num2 > num3:\n",
    "    print(\"Num2 > Num1 and Num3 that is:\", num2, \">\", num1, \">\", num3)\n",
    "else:\n",
    "    print(\"Num3 > Num1 and Num2 that is:\", num3, \">\", num1, \">\", num1)\n"
   ]
  },
  {
   "cell_type": "markdown",
   "metadata": {},
   "source": [
    "## 4.Even, Odd or Negative\n"
   ]
  },
  {
   "cell_type": "code",
   "execution_count": 12,
   "metadata": {},
   "outputs": [
    {
     "name": "stdout",
     "output_type": "stream",
     "text": [
      "0 Number is Positve and it is even.\n"
     ]
    }
   ],
   "source": [
    "num = int(input('Enter the Number:'))\n",
    "if (num>=0) and (num%2==0):\n",
    "    print(num, 'Number is Positve and it is even.')\n",
    "elif (num<0) and (num%2!=0):\n",
    "    print(num, 'Number is Negative.')\n"
   ]
  },
  {
   "cell_type": "markdown",
   "metadata": {},
   "source": [
    "## 5.Student Details"
   ]
  },
  {
   "cell_type": "code",
   "execution_count": null,
   "metadata": {},
   "outputs": [],
   "source": [
    "studentName = input(\"Enter Student Name: \")\n",
    "rollNo = input(\"Enter Student roll number: \")\n",
    "s1 = int(input(\"Enter the marks in Subject 1: \"))\n",
    "s2 = int(input(\"Enter the marks in Subject 2: \"))\n",
    "s3 = int(input(\"Enter the marks in Subject 3: \"))\n",
    "s4 = int(input(\"Enter the marks in Subject 4: \"))\n",
    "s5 = int(input(\"Enter the marks in Subject 5: \"))\n",
    "outOfMarks = 500\n",
    "totalMarks = s1 + s2 + s3 + s4 + s5\n",
    "percentage = (totalMarks / outOfMarks) *100\n",
    "Class = 'a'\n",
    "if(percentage>=75):\n",
    "    Class = 'D'\n",
    "elif(percentage>= 60 and percentage<75):\n",
    "    Class = 'FS'\n",
    "elif(percentage>=55 and percentage<55):\n",
    "    Class = 'HSC'\n",
    "elif(percentage>= 45 and percentage<50):\n",
    "    Class = 'Pass'\n",
    "else:\n",
    "    Class = 'Fail' \n",
    "\n",
    "print (\"Name\\t\", \"Roll Number\\t\", \"OS\\t\", \"TNM\\t\", \"MLA\\t\", \"FLA\\t\", \"Open Elective\\t\", \"Class\\t\")\n",
    "print(studentName,\"\\t\",rollNo,\"\\t\", s1,\"\\t\", s2,\"\\t\",s3,\"\\t\",s4,\"\\t\",s5,\"\\t\", percentage,\"\\t\")"
   ]
  }
 ],
 "metadata": {
  "interpreter": {
   "hash": "6135758a37776485b9e20a95a4a6242d5be1318fd62f6ddd8f40ab9b44d08c41"
  },
  "kernelspec": {
   "display_name": "Python 3.10.2 64-bit",
   "language": "python",
   "name": "python3"
  },
  "language_info": {
   "codemirror_mode": {
    "name": "ipython",
    "version": 3
   },
   "file_extension": ".py",
   "mimetype": "text/x-python",
   "name": "python",
   "nbconvert_exporter": "python",
   "pygments_lexer": "ipython3",
   "version": "3.10.2"
  },
  "orig_nbformat": 4
 },
 "nbformat": 4,
 "nbformat_minor": 2
}
