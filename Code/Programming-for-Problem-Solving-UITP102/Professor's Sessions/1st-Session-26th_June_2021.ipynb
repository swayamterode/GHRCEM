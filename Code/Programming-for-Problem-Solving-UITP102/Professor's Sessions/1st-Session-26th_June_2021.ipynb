{
 "metadata": {
  "language_info": {
   "codemirror_mode": {
    "name": "ipython",
    "version": 3
   },
   "file_extension": ".py",
   "mimetype": "text/x-python",
   "name": "python",
   "nbconvert_exporter": "python",
   "pygments_lexer": "ipython3",
   "version": "3.9.5"
  },
  "orig_nbformat": 4,
  "kernelspec": {
   "name": "python3",
   "display_name": "Python 3.9.5 64-bit"
  },
  "interpreter": {
   "hash": "774859b2267dd942a7ec4c9357ad77e8ff189738f21520416ffa9c31600369a1"
  }
 },
 "nbformat": 4,
 "nbformat_minor": 2,
 "cells": [
  {
   "source": [
    "# A Program to print Hello Wrold!"
   ],
   "cell_type": "markdown",
   "metadata": {}
  },
  {
   "cell_type": "code",
   "execution_count": 1,
   "metadata": {},
   "outputs": [
    {
     "output_type": "stream",
     "name": "stdout",
     "text": [
      "Hello World!\n"
     ]
    }
   ],
   "source": [
    "print(\"Hello World!\")"
   ]
  },
  {
   "source": [
    "# A Program to print *User's Age*"
   ],
   "cell_type": "markdown",
   "metadata": {}
  },
  {
   "cell_type": "code",
   "execution_count": 2,
   "metadata": {},
   "outputs": [
    {
     "output_type": "stream",
     "name": "stdout",
     "text": [
      "User's age is : 20\n"
     ]
    }
   ],
   "source": [
    "userAge = 20\n",
    "print(\"User's age is :\",userAge)"
   ]
  },
  {
   "source": [
    "# Python type()\n",
    "The type() function either returns the type of the object or returns a new type object based on the arguments passed.\n",
    "\n",
    "\n",
    "### The type() function has two different forms:\n",
    "\n",
    "``` Python\n",
    "type(object)\n",
    "type(name, bases, dict)\n",
    "```\n",
    "### type() With a Single Object Parameter\n",
    "\n",
    "If a single `object` is passed to `type()`, the function returns its type.\n",
    "\n",
    "#### Below is the example of some type()."
   ],
   "cell_type": "markdown",
   "metadata": {}
  },
  {
   "cell_type": "code",
   "execution_count": 3,
   "metadata": {},
   "outputs": [
    {
     "output_type": "stream",
     "name": "stdout",
     "text": [
      "Entered number is of type -  <class 'int'>\n"
     ]
    }
   ],
   "source": [
    "x=10\n",
    "print (\"Entered number is of type - \",type(x))"
   ]
  },
  {
   "source": [
    "# Basic output in python\n",
    "\n",
    "The output is excuted by print() in python."
   ],
   "cell_type": "markdown",
   "metadata": {}
  },
  {
   "cell_type": "code",
   "execution_count": 4,
   "metadata": {},
   "outputs": [
    {
     "output_type": "stream",
     "name": "stdout",
     "text": [
      "10 8.4\n"
     ]
    }
   ],
   "source": [
    "x,y=10,8.4\n",
    "print(x,y)"
   ]
  },
  {
   "source": [
    "# Swapping of two number"
   ],
   "cell_type": "markdown",
   "metadata": {}
  },
  {
   "cell_type": "code",
   "execution_count": 5,
   "metadata": {},
   "outputs": [
    {
     "output_type": "stream",
     "name": "stdout",
     "text": [
      "The vlaue of x before swapping is: 10\nThe vlaue of y before swapping is: 20\nThe vlaue of x after swapping is: 20\nThe vlaue of x after swapping is: 10\n"
     ]
    }
   ],
   "source": [
    "x,y=10,20\n",
    "print(\"The vlaue of x before swapping is:\",x)\n",
    "\n",
    "print(\"The vlaue of y before swapping is:\",y)\n",
    "\n",
    "x,y=y,x\n",
    "\n",
    "print(\"The vlaue of x after swapping is:\",x)\n",
    "\n",
    "print(\"The vlaue of x after swapping is:\",y)"
   ]
  }
 ]
}