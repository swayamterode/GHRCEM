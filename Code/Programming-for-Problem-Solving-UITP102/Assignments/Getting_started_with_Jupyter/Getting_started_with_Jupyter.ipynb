{
 "metadata": {
  "language_info": {
   "codemirror_mode": {
    "name": "ipython",
    "version": 3
   },
   "file_extension": ".py",
   "mimetype": "text/x-python",
   "name": "python",
   "nbconvert_exporter": "python",
   "pygments_lexer": "ipython3",
   "version": "3.9.5"
  },
  "orig_nbformat": 2,
  "kernelspec": {
   "name": "python395jvsc74a57bd0774859b2267dd942a7ec4c9357ad77e8ff189738f21520416ffa9c31600369a1",
   "display_name": "Python 3.9.5 64-bit"
  },
  "metadata": {
   "interpreter": {
    "hash": "774859b2267dd942a7ec4c9357ad77e8ff189738f21520416ffa9c31600369a1"
   }
  }
 },
 "nbformat": 4,
 "nbformat_minor": 2,
 "cells": [
  {
   "source": [
    "# This is my first code in Jupyter Nootebook"
   ],
   "cell_type": "markdown",
   "metadata": {}
  },
  {
   "cell_type": "code",
   "execution_count": 1,
   "metadata": {},
   "outputs": [
    {
     "output_type": "stream",
     "name": "stdout",
     "text": [
      "This is my first python in Jupyter Notebook :)\n"
     ]
    }
   ],
   "source": [
    "print(\"This is my first python in Jupyter Notebook :)\")"
   ]
  }
 ]
}